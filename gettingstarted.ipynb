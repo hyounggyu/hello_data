{
 "cells": [
  {
   "cell_type": "markdown",
   "metadata": {},
   "source": [
    "# Simple Example of Palars, Dask, DuckDB "
   ]
  },
  {
   "cell_type": "markdown",
   "metadata": {},
   "source": [
    "## Setup\n",
    "\n",
    "Install the dependencies if you haven't already."
   ]
  },
  {
   "cell_type": "code",
   "execution_count": 1,
   "metadata": {},
   "outputs": [],
   "source": [
    "# !pip install -r requirements.txt"
   ]
  },
  {
   "cell_type": "code",
   "execution_count": 2,
   "metadata": {},
   "outputs": [],
   "source": [
    "from datetime import date\n",
    "\n",
    "import polars as pl\n",
    "import dask.dataframe as dd\n",
    "import duckdb"
   ]
  },
  {
   "cell_type": "markdown",
   "metadata": {},
   "source": [
    "## Example 1: Read And Query Parquet files\n",
    "\n",
    "References:\n",
    "\n",
    "- Polars: https://pola-rs.github.io/polars/user-guide/io/parquet/\n",
    "- Dask: https://docs.dask.org/en/latest/dataframe-parquet.html\n",
    "- DuckDB: https://duckdb.org/docs/data/parquet/overview.html"
   ]
  },
  {
   "cell_type": "markdown",
   "metadata": {},
   "source": [
    "### Polars"
   ]
  },
  {
   "cell_type": "markdown",
   "metadata": {},
   "source": [
    "Read and query Parquet files"
   ]
  },
  {
   "cell_type": "code",
   "execution_count": 3,
   "metadata": {},
   "outputs": [
    {
     "data": {
      "text/html": [
       "<div><style>\n",
       ".dataframe > thead > tr,\n",
       ".dataframe > tbody > tr {\n",
       "  text-align: right;\n",
       "  white-space: pre-wrap;\n",
       "}\n",
       "</style>\n",
       "<small>shape: (2, 3)</small><table border=\"1\" class=\"dataframe\"><thead><tr><th>date</th><th>ticker</th><th>close</th></tr><tr><td>date</td><td>str</td><td>f64</td></tr></thead><tbody><tr><td>2023-12-22</td><td>&quot;intu&quot;</td><td>1.595353</td></tr><tr><td>2023-12-22</td><td>&quot;phm&quot;</td><td>2.2171</td></tr></tbody></table></div>"
      ],
      "text/plain": [
       "shape: (2, 3)\n",
       "┌────────────┬────────┬──────────┐\n",
       "│ date       ┆ ticker ┆ close    │\n",
       "│ ---        ┆ ---    ┆ ---      │\n",
       "│ date       ┆ str    ┆ f64      │\n",
       "╞════════════╪════════╪══════════╡\n",
       "│ 2023-12-22 ┆ intu   ┆ 1.595353 │\n",
       "│ 2023-12-22 ┆ phm    ┆ 2.2171   │\n",
       "└────────────┴────────┴──────────┘"
      ]
     },
     "execution_count": 3,
     "metadata": {},
     "output_type": "execute_result"
    }
   ],
   "source": [
    "pl_df = pl.read_parquet(\"./data/parquet/*.parquet\")\n",
    "pl_df.filter((pl.col(\"date\") == pl.lit(date(2023, 12, 22))) & (pl.col(\"close\") >= 1.5))"
   ]
  },
  {
   "cell_type": "markdown",
   "metadata": {},
   "source": [
    "Lazy evaluation using Polars"
   ]
  },
  {
   "cell_type": "code",
   "execution_count": 4,
   "metadata": {},
   "outputs": [
    {
     "data": {
      "text/html": [
       "<div><style>\n",
       ".dataframe > thead > tr,\n",
       ".dataframe > tbody > tr {\n",
       "  text-align: right;\n",
       "  white-space: pre-wrap;\n",
       "}\n",
       "</style>\n",
       "<small>shape: (2, 3)</small><table border=\"1\" class=\"dataframe\"><thead><tr><th>date</th><th>ticker</th><th>close</th></tr><tr><td>date</td><td>str</td><td>f64</td></tr></thead><tbody><tr><td>2023-12-22</td><td>&quot;intu&quot;</td><td>1.595353</td></tr><tr><td>2023-12-22</td><td>&quot;phm&quot;</td><td>2.2171</td></tr></tbody></table></div>"
      ],
      "text/plain": [
       "shape: (2, 3)\n",
       "┌────────────┬────────┬──────────┐\n",
       "│ date       ┆ ticker ┆ close    │\n",
       "│ ---        ┆ ---    ┆ ---      │\n",
       "│ date       ┆ str    ┆ f64      │\n",
       "╞════════════╪════════╪══════════╡\n",
       "│ 2023-12-22 ┆ intu   ┆ 1.595353 │\n",
       "│ 2023-12-22 ┆ phm    ┆ 2.2171   │\n",
       "└────────────┴────────┴──────────┘"
      ]
     },
     "execution_count": 4,
     "metadata": {},
     "output_type": "execute_result"
    }
   ],
   "source": [
    "pl_lazy_df = pl.scan_parquet(\"./data/parquet/*.parquet\")\n",
    "pl_lazy_df.filter((pl.col(\"date\") == pl.lit(date(2023, 12, 22))) & (pl.col(\"close\") >= 1.5)).collect()"
   ]
  },
  {
   "cell_type": "markdown",
   "metadata": {},
   "source": [
    "### Dask"
   ]
  },
  {
   "cell_type": "markdown",
   "metadata": {},
   "source": [
    "Read and query Parquet files"
   ]
  },
  {
   "cell_type": "code",
   "execution_count": 5,
   "metadata": {},
   "outputs": [
    {
     "data": {
      "text/html": [
       "<div>\n",
       "<style scoped>\n",
       "    .dataframe tbody tr th:only-of-type {\n",
       "        vertical-align: middle;\n",
       "    }\n",
       "\n",
       "    .dataframe tbody tr th {\n",
       "        vertical-align: top;\n",
       "    }\n",
       "\n",
       "    .dataframe thead th {\n",
       "        text-align: right;\n",
       "    }\n",
       "</style>\n",
       "<table border=\"1\" class=\"dataframe\">\n",
       "  <thead>\n",
       "    <tr style=\"text-align: right;\">\n",
       "      <th></th>\n",
       "      <th>date</th>\n",
       "      <th>ticker</th>\n",
       "      <th>close</th>\n",
       "    </tr>\n",
       "  </thead>\n",
       "  <tbody>\n",
       "    <tr>\n",
       "      <th>245</th>\n",
       "      <td>2023-12-22</td>\n",
       "      <td>intu</td>\n",
       "      <td>1.595353</td>\n",
       "    </tr>\n",
       "    <tr>\n",
       "      <th>245</th>\n",
       "      <td>2023-12-22</td>\n",
       "      <td>phm</td>\n",
       "      <td>2.217100</td>\n",
       "    </tr>\n",
       "  </tbody>\n",
       "</table>\n",
       "</div>"
      ],
      "text/plain": [
       "           date ticker     close\n",
       "245  2023-12-22   intu  1.595353\n",
       "245  2023-12-22    phm  2.217100"
      ]
     },
     "execution_count": 5,
     "metadata": {},
     "output_type": "execute_result"
    }
   ],
   "source": [
    "dd_df = dd.read_parquet(\"./data/parquet/*.parquet\")\n",
    "dd_df[(dd_df[\"date\"] == date(2023, 12, 22)) & (dd_df[\"close\"] >= 1.5)].compute()"
   ]
  },
  {
   "cell_type": "markdown",
   "metadata": {},
   "source": [
    "### DuckDB"
   ]
  },
  {
   "cell_type": "markdown",
   "metadata": {},
   "source": [
    "Read and query Parquet files"
   ]
  },
  {
   "cell_type": "code",
   "execution_count": 6,
   "metadata": {},
   "outputs": [
    {
     "data": {
      "text/plain": [
       "┌────────────┬─────────┬────────────────────┐\n",
       "│    date    │ ticker  │       close        │\n",
       "│    date    │ varchar │       double       │\n",
       "├────────────┼─────────┼────────────────────┤\n",
       "│ 2023-12-22 │ phm     │  2.217099567099567 │\n",
       "│ 2023-12-22 │ intu    │ 1.5953525231351298 │\n",
       "└────────────┴─────────┴────────────────────┘"
      ]
     },
     "execution_count": 6,
     "metadata": {},
     "output_type": "execute_result"
    }
   ],
   "source": [
    "TABLE = \"./data/parquet/*.parquet\"\n",
    "duckdb.query(f\"\"\"SELECT * FROM '{TABLE}' WHERE date = '2023-12-22' AND close >= 1.5\"\"\")"
   ]
  },
  {
   "cell_type": "markdown",
   "metadata": {},
   "source": [
    "## Example 2: Pivot and Aggregate"
   ]
  },
  {
   "cell_type": "markdown",
   "metadata": {},
   "source": [
    "### Polars"
   ]
  },
  {
   "cell_type": "markdown",
   "metadata": {},
   "source": [
    "Pivot and aggregate"
   ]
  },
  {
   "cell_type": "code",
   "execution_count": 7,
   "metadata": {},
   "outputs": [],
   "source": [
    "pl_df = pl.read_parquet(\"./data/parquet/*.parquet\")\n",
    "pl_final_df = pl_df.pivot(index=\"ticker\", columns=\"date\", values=\"close\").with_columns(\n",
    "    pl.concat_list(pl.all().exclude(\"ticker\")).alias(\"closes\")\n",
    ")\n",
    "pl_final_df.write_parquet(\"./tmp/polars.parquet\")"
   ]
  },
  {
   "cell_type": "markdown",
   "metadata": {},
   "source": [
    "### Dask"
   ]
  },
  {
   "cell_type": "markdown",
   "metadata": {},
   "source": [
    "Pivot and aggregate"
   ]
  },
  {
   "cell_type": "code",
   "execution_count": 8,
   "metadata": {},
   "outputs": [],
   "source": [
    "dd_df = dd.read_parquet(\"./data/parquet/*.parquet\")\n",
    "\n",
    "# Make date column to categorical to use pivot method\n",
    "dd_df.date = dd_df.date.dt.strftime(\"%Y-%m-%d\").astype(\"category\").cat.as_known()\n",
    "\n",
    "dd_pivot_df = dd_df.pivot_table(index='ticker', columns='date', values='close').compute()\n",
    "\n",
    "# Aggregate the date columns\n",
    "dd_agg_df = dd_df.compute().groupby('ticker').agg({\"close\": list})\n",
    "\n",
    "# Merge the two dataframes\n",
    "dd_final_df = dd_pivot_df.merge(dd_agg_df, on=\"ticker\")\n",
    "\n",
    "dd_final_df.rename(columns={\"close\": \"closes\"}, inplace=True)\n",
    "\n",
    "dd_final_df.to_parquet(\"./tmp/dask.parquet\")"
   ]
  },
  {
   "cell_type": "markdown",
   "metadata": {},
   "source": [
    "**NOTE: Object data type conversion issue**"
   ]
  },
  {
   "cell_type": "markdown",
   "metadata": {},
   "source": [
    "Above example works fine, \"closes\" column data type is list of float64"
   ]
  },
  {
   "cell_type": "code",
   "execution_count": 9,
   "metadata": {},
   "outputs": [
    {
     "data": {
      "text/plain": [
       "list"
      ]
     },
     "execution_count": 9,
     "metadata": {},
     "output_type": "execute_result"
    }
   ],
   "source": [
    "type(dd_final_df.closes.iloc[0])"
   ]
  },
  {
   "cell_type": "code",
   "execution_count": 10,
   "metadata": {},
   "outputs": [
    {
     "data": {
      "text/plain": [
       "float"
      ]
     },
     "execution_count": 10,
     "metadata": {},
     "output_type": "execute_result"
    }
   ],
   "source": [
    "type(dd_final_df.closes.iloc[0][0])"
   ]
  },
  {
   "cell_type": "markdown",
   "metadata": {},
   "source": [
    "However, if you move lazy evaluation to the end, the \"closes\" column data type is converted to string"
   ]
  },
  {
   "cell_type": "code",
   "execution_count": 11,
   "metadata": {},
   "outputs": [],
   "source": [
    "dd_dtissue_df = dd.read_parquet(\"./data/parquet/*.parquet\")\n",
    "\n",
    "# Make date column to categorical to use pivot method\n",
    "dd_dtissue_df.date = dd_dtissue_df.date.dt.strftime(\"%Y-%m-%d\").astype(\"category\").cat.as_known()\n",
    "\n",
    "dd_dtissue_pivot_df = dd_dtissue_df.pivot_table(index='ticker', columns='date', values='close')\n",
    "\n",
    "# Aggregate the date columns\n",
    "dd_dtissue_agg_df = dd_dtissue_df.groupby('ticker').agg({\"close\": list})\n",
    "\n",
    "# Merge the two dataframes\n",
    "dd_dtissue_final_df = dd_dtissue_pivot_df.merge(dd_dtissue_agg_df, on=\"ticker\").compute()\n",
    "\n",
    "dd_dtissue_final_df.rename(columns={\"close\": \"closes\"}, inplace=True)\n",
    "\n",
    "dd_dtissue_final_df.to_parquet(\"./tmp/dask.parquet\")"
   ]
  },
  {
   "cell_type": "code",
   "execution_count": 12,
   "metadata": {},
   "outputs": [
    {
     "data": {
      "text/plain": [
       "'[1.0, 1.0108637696614236, 1.0137963209810719, 0.9842042122100773, 0.98287123433751, 1.0345907757931219, 1.05418555051986'"
      ]
     },
     "execution_count": 12,
     "metadata": {},
     "output_type": "execute_result"
    }
   ],
   "source": [
    "dd_dtissue_final_df.closes.iloc[0][:120]"
   ]
  },
  {
   "cell_type": "markdown",
   "metadata": {},
   "source": [
    "Dask community is aware of this issue, see below links for more details.\n",
    "\n",
    "- [[FEEDBACK] User experience with arrow strings](https://github.com/dask/dask/issues/10139)\n",
    "- [Issues with `convert-string` label](https://github.com/dask/dask/issues?q=label%3Aconvert-string+)"
   ]
  },
  {
   "cell_type": "markdown",
   "metadata": {},
   "source": [
    "### DuckDB"
   ]
  },
  {
   "cell_type": "markdown",
   "metadata": {},
   "source": [
    "Pivot and aggregate"
   ]
  },
  {
   "cell_type": "code",
   "execution_count": 13,
   "metadata": {},
   "outputs": [],
   "source": [
    "TABLE = \"./data/parquet/*.parquet\"\n",
    "\n",
    "# Directly join the results of the two queries using subqueries\n",
    "duckdb.sql(f\"\"\"\n",
    "CREATE OR REPLACE TEMPORARY TABLE final_t AS (\n",
    "    SELECT pivot_t.*, agg_t.closes\n",
    "    FROM (\n",
    "        PIVOT '{TABLE}' ON date USING first(close) GROUP BY ticker\n",
    "    ) AS pivot_t\n",
    "    INNER JOIN (\n",
    "        SELECT ticker, list(close ORDER BY date ASC) AS closes \n",
    "        FROM '{TABLE}' \n",
    "        GROUP BY ticker\n",
    "    ) AS agg_t ON pivot_t.ticker = agg_t.ticker\n",
    ")\n",
    "\"\"\")"
   ]
  },
  {
   "cell_type": "code",
   "execution_count": 14,
   "metadata": {},
   "outputs": [
    {
     "data": {
      "text/html": [
       "<div>\n",
       "<style scoped>\n",
       "    .dataframe tbody tr th:only-of-type {\n",
       "        vertical-align: middle;\n",
       "    }\n",
       "\n",
       "    .dataframe tbody tr th {\n",
       "        vertical-align: top;\n",
       "    }\n",
       "\n",
       "    .dataframe thead th {\n",
       "        text-align: right;\n",
       "    }\n",
       "</style>\n",
       "<table border=\"1\" class=\"dataframe\">\n",
       "  <thead>\n",
       "    <tr style=\"text-align: right;\">\n",
       "      <th></th>\n",
       "      <th>ticker</th>\n",
       "      <th>2023-01-03</th>\n",
       "      <th>2023-01-04</th>\n",
       "      <th>2023-01-05</th>\n",
       "      <th>2023-01-06</th>\n",
       "      <th>2023-01-09</th>\n",
       "      <th>2023-01-10</th>\n",
       "      <th>2023-01-11</th>\n",
       "      <th>2023-01-12</th>\n",
       "      <th>2023-01-13</th>\n",
       "      <th>...</th>\n",
       "      <th>2023-12-12</th>\n",
       "      <th>2023-12-13</th>\n",
       "      <th>2023-12-14</th>\n",
       "      <th>2023-12-15</th>\n",
       "      <th>2023-12-18</th>\n",
       "      <th>2023-12-19</th>\n",
       "      <th>2023-12-20</th>\n",
       "      <th>2023-12-21</th>\n",
       "      <th>2023-12-22</th>\n",
       "      <th>closes</th>\n",
       "    </tr>\n",
       "  </thead>\n",
       "  <tbody>\n",
       "    <tr>\n",
       "      <th>0</th>\n",
       "      <td>xyl</td>\n",
       "      <td>1.0</td>\n",
       "      <td>0.998465</td>\n",
       "      <td>0.970116</td>\n",
       "      <td>1.004605</td>\n",
       "      <td>1.009299</td>\n",
       "      <td>1.019682</td>\n",
       "      <td>1.037017</td>\n",
       "      <td>1.049025</td>\n",
       "      <td>1.055706</td>\n",
       "      <td>...</td>\n",
       "      <td>0.974540</td>\n",
       "      <td>0.985735</td>\n",
       "      <td>1.001535</td>\n",
       "      <td>0.999639</td>\n",
       "      <td>0.999549</td>\n",
       "      <td>1.007403</td>\n",
       "      <td>0.990159</td>\n",
       "      <td>1.008397</td>\n",
       "      <td>1.016974</td>\n",
       "      <td>[1.0, 0.9984651498736006, 0.9701155651859877, ...</td>\n",
       "    </tr>\n",
       "    <tr>\n",
       "      <th>1</th>\n",
       "      <td>intu</td>\n",
       "      <td>1.0</td>\n",
       "      <td>1.000997</td>\n",
       "      <td>0.960223</td>\n",
       "      <td>0.988087</td>\n",
       "      <td>1.010634</td>\n",
       "      <td>0.993609</td>\n",
       "      <td>1.010558</td>\n",
       "      <td>1.014111</td>\n",
       "      <td>1.005189</td>\n",
       "      <td>...</td>\n",
       "      <td>1.518943</td>\n",
       "      <td>1.559947</td>\n",
       "      <td>1.536837</td>\n",
       "      <td>1.555575</td>\n",
       "      <td>1.580935</td>\n",
       "      <td>1.588680</td>\n",
       "      <td>1.573981</td>\n",
       "      <td>1.587479</td>\n",
       "      <td>1.595353</td>\n",
       "      <td>[1.0, 1.0009969834858632, 0.9602229152819673, ...</td>\n",
       "    </tr>\n",
       "    <tr>\n",
       "      <th>2</th>\n",
       "      <td>etr</td>\n",
       "      <td>1.0</td>\n",
       "      <td>1.000733</td>\n",
       "      <td>0.949876</td>\n",
       "      <td>0.986713</td>\n",
       "      <td>0.993861</td>\n",
       "      <td>0.987171</td>\n",
       "      <td>0.996884</td>\n",
       "      <td>0.979016</td>\n",
       "      <td>0.976450</td>\n",
       "      <td>...</td>\n",
       "      <td>0.930908</td>\n",
       "      <td>0.965821</td>\n",
       "      <td>0.946303</td>\n",
       "      <td>0.924402</td>\n",
       "      <td>0.930358</td>\n",
       "      <td>0.930542</td>\n",
       "      <td>0.912948</td>\n",
       "      <td>0.913864</td>\n",
       "      <td>0.918354</td>\n",
       "      <td>[1.0, 1.0007330706496838, 0.9498762943278659, ...</td>\n",
       "    </tr>\n",
       "    <tr>\n",
       "      <th>3</th>\n",
       "      <td>sbux</td>\n",
       "      <td>1.0</td>\n",
       "      <td>1.036001</td>\n",
       "      <td>1.035704</td>\n",
       "      <td>1.058118</td>\n",
       "      <td>1.038778</td>\n",
       "      <td>1.051274</td>\n",
       "      <td>1.054250</td>\n",
       "      <td>1.049787</td>\n",
       "      <td>1.063473</td>\n",
       "      <td>...</td>\n",
       "      <td>0.973421</td>\n",
       "      <td>0.973024</td>\n",
       "      <td>0.970346</td>\n",
       "      <td>0.959536</td>\n",
       "      <td>0.957651</td>\n",
       "      <td>0.969156</td>\n",
       "      <td>0.939304</td>\n",
       "      <td>0.945453</td>\n",
       "      <td>0.944957</td>\n",
       "      <td>[1.0, 1.0360011901219874, 1.0357036596251117, ...</td>\n",
       "    </tr>\n",
       "    <tr>\n",
       "      <th>4</th>\n",
       "      <td>pru</td>\n",
       "      <td>1.0</td>\n",
       "      <td>1.017089</td>\n",
       "      <td>0.999598</td>\n",
       "      <td>1.015380</td>\n",
       "      <td>0.987736</td>\n",
       "      <td>0.998693</td>\n",
       "      <td>1.005227</td>\n",
       "      <td>1.001206</td>\n",
       "      <td>1.015279</td>\n",
       "      <td>...</td>\n",
       "      <td>1.027141</td>\n",
       "      <td>1.046844</td>\n",
       "      <td>1.057600</td>\n",
       "      <td>1.044029</td>\n",
       "      <td>1.037093</td>\n",
       "      <td>1.048854</td>\n",
       "      <td>1.030458</td>\n",
       "      <td>1.037696</td>\n",
       "      <td>1.040812</td>\n",
       "      <td>[1.0, 1.0170888620828307, 0.9995979091274627, ...</td>\n",
       "    </tr>\n",
       "  </tbody>\n",
       "</table>\n",
       "<p>5 rows × 248 columns</p>\n",
       "</div>"
      ],
      "text/plain": [
       "  ticker  2023-01-03  2023-01-04  2023-01-05  2023-01-06  2023-01-09  \\\n",
       "0    xyl         1.0    0.998465    0.970116    1.004605    1.009299   \n",
       "1   intu         1.0    1.000997    0.960223    0.988087    1.010634   \n",
       "2    etr         1.0    1.000733    0.949876    0.986713    0.993861   \n",
       "3   sbux         1.0    1.036001    1.035704    1.058118    1.038778   \n",
       "4    pru         1.0    1.017089    0.999598    1.015380    0.987736   \n",
       "\n",
       "   2023-01-10  2023-01-11  2023-01-12  2023-01-13  ...  2023-12-12  \\\n",
       "0    1.019682    1.037017    1.049025    1.055706  ...    0.974540   \n",
       "1    0.993609    1.010558    1.014111    1.005189  ...    1.518943   \n",
       "2    0.987171    0.996884    0.979016    0.976450  ...    0.930908   \n",
       "3    1.051274    1.054250    1.049787    1.063473  ...    0.973421   \n",
       "4    0.998693    1.005227    1.001206    1.015279  ...    1.027141   \n",
       "\n",
       "   2023-12-13  2023-12-14  2023-12-15  2023-12-18  2023-12-19  2023-12-20  \\\n",
       "0    0.985735    1.001535    0.999639    0.999549    1.007403    0.990159   \n",
       "1    1.559947    1.536837    1.555575    1.580935    1.588680    1.573981   \n",
       "2    0.965821    0.946303    0.924402    0.930358    0.930542    0.912948   \n",
       "3    0.973024    0.970346    0.959536    0.957651    0.969156    0.939304   \n",
       "4    1.046844    1.057600    1.044029    1.037093    1.048854    1.030458   \n",
       "\n",
       "   2023-12-21  2023-12-22                                             closes  \n",
       "0    1.008397    1.016974  [1.0, 0.9984651498736006, 0.9701155651859877, ...  \n",
       "1    1.587479    1.595353  [1.0, 1.0009969834858632, 0.9602229152819673, ...  \n",
       "2    0.913864    0.918354  [1.0, 1.0007330706496838, 0.9498762943278659, ...  \n",
       "3    0.945453    0.944957  [1.0, 1.0360011901219874, 1.0357036596251117, ...  \n",
       "4    1.037696    1.040812  [1.0, 1.0170888620828307, 0.9995979091274627, ...  \n",
       "\n",
       "[5 rows x 248 columns]"
      ]
     },
     "execution_count": 14,
     "metadata": {},
     "output_type": "execute_result"
    }
   ],
   "source": [
    "duckdb.sql(\"SELECT * FROM final_t\").to_df().head()"
   ]
  },
  {
   "cell_type": "markdown",
   "metadata": {},
   "source": [
    "Export to Parquet"
   ]
  },
  {
   "cell_type": "code",
   "execution_count": 15,
   "metadata": {},
   "outputs": [],
   "source": [
    "OUTPUT = \"./tmp/duckdb.parquet\"\n",
    "\n",
    "duckdb.sql(f\"\"\"COPY final_t TO '{OUTPUT}' (FORMAT PARQUET)\"\"\")"
   ]
  }
 ],
 "metadata": {
  "kernelspec": {
   "display_name": "Python 3 (ipykernel)",
   "language": "python",
   "name": "python3"
  },
  "language_info": {
   "codemirror_mode": {
    "name": "ipython",
    "version": 3
   },
   "file_extension": ".py",
   "mimetype": "text/x-python",
   "name": "python",
   "nbconvert_exporter": "python",
   "pygments_lexer": "ipython3",
   "version": "3.11.5"
  }
 },
 "nbformat": 4,
 "nbformat_minor": 4
}
