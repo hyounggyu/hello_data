{
 "cells": [
  {
   "cell_type": "code",
   "execution_count": 7,
   "metadata": {},
   "outputs": [],
   "source": [
    "from datetime import date\n",
    "\n",
    "import polars as pl\n",
    "import dask.dataframe as dd\n",
    "import duckdb"
   ]
  },
  {
   "cell_type": "markdown",
   "metadata": {},
   "source": [
    "- Polars: https://pola-rs.github.io/polars/user-guide/io/parquet/\n",
    "- Dask: https://docs.dask.org/en/latest/dataframe-parquet.html\n",
    "- DuckDB: https://duckdb.org/docs/data/parquet/overview.html"
   ]
  },
  {
   "cell_type": "code",
   "execution_count": 8,
   "metadata": {},
   "outputs": [
    {
     "data": {
      "text/html": [
       "<div><style>\n",
       ".dataframe > thead > tr,\n",
       ".dataframe > tbody > tr {\n",
       "  text-align: right;\n",
       "  white-space: pre-wrap;\n",
       "}\n",
       "</style>\n",
       "<small>shape: (2, 3)</small><table border=\"1\" class=\"dataframe\"><thead><tr><th>date</th><th>ticker</th><th>close</th></tr><tr><td>date</td><td>str</td><td>f64</td></tr></thead><tbody><tr><td>2023-12-22</td><td>&quot;intu&quot;</td><td>1.595353</td></tr><tr><td>2023-12-22</td><td>&quot;phm&quot;</td><td>2.2171</td></tr></tbody></table></div>"
      ],
      "text/plain": [
       "shape: (2, 3)\n",
       "┌────────────┬────────┬──────────┐\n",
       "│ date       ┆ ticker ┆ close    │\n",
       "│ ---        ┆ ---    ┆ ---      │\n",
       "│ date       ┆ str    ┆ f64      │\n",
       "╞════════════╪════════╪══════════╡\n",
       "│ 2023-12-22 ┆ intu   ┆ 1.595353 │\n",
       "│ 2023-12-22 ┆ phm    ┆ 2.2171   │\n",
       "└────────────┴────────┴──────────┘"
      ]
     },
     "execution_count": 8,
     "metadata": {},
     "output_type": "execute_result"
    }
   ],
   "source": [
    "pl_df = pl.read_parquet(\"./data/parquet/*.parquet\")\n",
    "pl_df.filter((pl.col(\"date\") == pl.lit(date(2023, 12, 22))) & (pl.col(\"close\") >= 1.5))"
   ]
  },
  {
   "cell_type": "code",
   "execution_count": 12,
   "metadata": {},
   "outputs": [
    {
     "data": {
      "text/html": [
       "<div><style>\n",
       ".dataframe > thead > tr,\n",
       ".dataframe > tbody > tr {\n",
       "  text-align: right;\n",
       "  white-space: pre-wrap;\n",
       "}\n",
       "</style>\n",
       "<small>shape: (2, 3)</small><table border=\"1\" class=\"dataframe\"><thead><tr><th>date</th><th>ticker</th><th>close</th></tr><tr><td>date</td><td>str</td><td>f64</td></tr></thead><tbody><tr><td>2023-12-22</td><td>&quot;intu&quot;</td><td>1.595353</td></tr><tr><td>2023-12-22</td><td>&quot;phm&quot;</td><td>2.2171</td></tr></tbody></table></div>"
      ],
      "text/plain": [
       "shape: (2, 3)\n",
       "┌────────────┬────────┬──────────┐\n",
       "│ date       ┆ ticker ┆ close    │\n",
       "│ ---        ┆ ---    ┆ ---      │\n",
       "│ date       ┆ str    ┆ f64      │\n",
       "╞════════════╪════════╪══════════╡\n",
       "│ 2023-12-22 ┆ intu   ┆ 1.595353 │\n",
       "│ 2023-12-22 ┆ phm    ┆ 2.2171   │\n",
       "└────────────┴────────┴──────────┘"
      ]
     },
     "execution_count": 12,
     "metadata": {},
     "output_type": "execute_result"
    }
   ],
   "source": [
    "pl_lazy_df = pl.scan_parquet(\"./data/parquet/*.parquet\")\n",
    "pl_lazy_df.filter((pl.col(\"date\") == pl.lit(date(2023, 12, 22))) & (pl.col(\"close\") >= 1.5)).collect()"
   ]
  },
  {
   "cell_type": "code",
   "execution_count": 13,
   "metadata": {},
   "outputs": [
    {
     "data": {
      "text/html": [
       "<div>\n",
       "<style scoped>\n",
       "    .dataframe tbody tr th:only-of-type {\n",
       "        vertical-align: middle;\n",
       "    }\n",
       "\n",
       "    .dataframe tbody tr th {\n",
       "        vertical-align: top;\n",
       "    }\n",
       "\n",
       "    .dataframe thead th {\n",
       "        text-align: right;\n",
       "    }\n",
       "</style>\n",
       "<table border=\"1\" class=\"dataframe\">\n",
       "  <thead>\n",
       "    <tr style=\"text-align: right;\">\n",
       "      <th></th>\n",
       "      <th>date</th>\n",
       "      <th>ticker</th>\n",
       "      <th>close</th>\n",
       "    </tr>\n",
       "  </thead>\n",
       "  <tbody>\n",
       "    <tr>\n",
       "      <th>245</th>\n",
       "      <td>2023-12-22</td>\n",
       "      <td>intu</td>\n",
       "      <td>1.595353</td>\n",
       "    </tr>\n",
       "    <tr>\n",
       "      <th>245</th>\n",
       "      <td>2023-12-22</td>\n",
       "      <td>phm</td>\n",
       "      <td>2.217100</td>\n",
       "    </tr>\n",
       "  </tbody>\n",
       "</table>\n",
       "</div>"
      ],
      "text/plain": [
       "           date ticker     close\n",
       "245  2023-12-22   intu  1.595353\n",
       "245  2023-12-22    phm  2.217100"
      ]
     },
     "execution_count": 13,
     "metadata": {},
     "output_type": "execute_result"
    }
   ],
   "source": [
    "dd_df = dd.read_parquet(\"./data/parquet/*.parquet\")\n",
    "dd_df[(dd_df[\"date\"] == date(2023, 12, 22)) & (dd_df[\"close\"] >= 1.5)].compute()"
   ]
  },
  {
   "cell_type": "code",
   "execution_count": 14,
   "metadata": {},
   "outputs": [
    {
     "data": {
      "text/plain": [
       "┌────────────┬─────────┬────────────────────┐\n",
       "│    date    │ ticker  │       close        │\n",
       "│    date    │ varchar │       double       │\n",
       "├────────────┼─────────┼────────────────────┤\n",
       "│ 2023-12-22 │ phm     │  2.217099567099567 │\n",
       "│ 2023-12-22 │ intu    │ 1.5953525231351298 │\n",
       "└────────────┴─────────┴────────────────────┘"
      ]
     },
     "execution_count": 14,
     "metadata": {},
     "output_type": "execute_result"
    }
   ],
   "source": [
    "TABLE = \"./data/parquet/*.parquet\"\n",
    "duckdb.query(f\"\"\"SELECT * FROM '{TABLE}' WHERE date = '2023-12-22' AND close >= 1.5\"\"\")"
   ]
  }
 ],
 "metadata": {
  "kernelspec": {
   "display_name": "parquet",
   "language": "python",
   "name": "python3"
  },
  "language_info": {
   "codemirror_mode": {
    "name": "ipython",
    "version": 3
   },
   "file_extension": ".py",
   "mimetype": "text/x-python",
   "name": "python",
   "nbconvert_exporter": "python",
   "pygments_lexer": "ipython3",
   "version": "3.11.5"
  }
 },
 "nbformat": 4,
 "nbformat_minor": 2
}
