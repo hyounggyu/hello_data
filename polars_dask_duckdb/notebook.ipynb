{
 "cells": [
  {
   "cell_type": "markdown",
   "metadata": {},
   "source": [
    "# Simple Example of Palars, Dask, DuckDB "
   ]
  },
  {
   "cell_type": "markdown",
   "metadata": {},
   "source": [
    "## Setup\n",
    "\n",
    "Install the dependencies if you haven't already."
   ]
  },
  {
   "cell_type": "code",
   "execution_count": 1,
   "metadata": {},
   "outputs": [],
   "source": [
    "# !pip install -r requirements.txt"
   ]
  },
  {
   "cell_type": "code",
   "execution_count": 2,
   "metadata": {},
   "outputs": [],
   "source": [
    "from datetime import date\n",
    "\n",
    "import polars as pl\n",
    "import dask.dataframe as dd\n",
    "import duckdb"
   ]
  },
  {
   "cell_type": "markdown",
   "metadata": {},
   "source": [
    "## Example 1: Read And Query Parquet files\n",
    "\n",
    "References:\n",
    "\n",
    "- Polars: https://pola-rs.github.io/polars/user-guide/io/parquet/\n",
    "- Dask: https://docs.dask.org/en/latest/dataframe-parquet.html\n",
    "- DuckDB: https://duckdb.org/docs/data/parquet/overview.html"
   ]
  },
  {
   "cell_type": "markdown",
   "metadata": {},
   "source": [
    "### Polars"
   ]
  },
  {
   "cell_type": "markdown",
   "metadata": {},
   "source": [
    "Read and query Parquet files"
   ]
  },
  {
   "cell_type": "code",
   "execution_count": 3,
   "metadata": {},
   "outputs": [
    {
     "data": {
      "text/html": [
       "<div><style>\n",
       ".dataframe > thead > tr,\n",
       ".dataframe > tbody > tr {\n",
       "  text-align: right;\n",
       "  white-space: pre-wrap;\n",
       "}\n",
       "</style>\n",
       "<small>shape: (2, 3)</small><table border=\"1\" class=\"dataframe\"><thead><tr><th>date</th><th>ticker</th><th>close</th></tr><tr><td>date</td><td>str</td><td>f64</td></tr></thead><tbody><tr><td>2023-12-22</td><td>&quot;intu&quot;</td><td>1.595353</td></tr><tr><td>2023-12-22</td><td>&quot;phm&quot;</td><td>2.2171</td></tr></tbody></table></div>"
      ],
      "text/plain": [
       "shape: (2, 3)\n",
       "┌────────────┬────────┬──────────┐\n",
       "│ date       ┆ ticker ┆ close    │\n",
       "│ ---        ┆ ---    ┆ ---      │\n",
       "│ date       ┆ str    ┆ f64      │\n",
       "╞════════════╪════════╪══════════╡\n",
       "│ 2023-12-22 ┆ intu   ┆ 1.595353 │\n",
       "│ 2023-12-22 ┆ phm    ┆ 2.2171   │\n",
       "└────────────┴────────┴──────────┘"
      ]
     },
     "execution_count": 3,
     "metadata": {},
     "output_type": "execute_result"
    }
   ],
   "source": [
    "pl_df = pl.read_parquet(\"../data/2023/parquet/*.parquet\")\n",
    "pl_df.filter((pl.col(\"date\") == pl.lit(date(2023, 12, 22))) & (pl.col(\"close\") >= 1.5))"
   ]
  },
  {
   "cell_type": "markdown",
   "metadata": {},
   "source": [
    "Lazy evaluation using Polars"
   ]
  },
  {
   "cell_type": "code",
   "execution_count": 4,
   "metadata": {},
   "outputs": [
    {
     "data": {
      "text/html": [
       "<div><style>\n",
       ".dataframe > thead > tr,\n",
       ".dataframe > tbody > tr {\n",
       "  text-align: right;\n",
       "  white-space: pre-wrap;\n",
       "}\n",
       "</style>\n",
       "<small>shape: (2, 3)</small><table border=\"1\" class=\"dataframe\"><thead><tr><th>date</th><th>ticker</th><th>close</th></tr><tr><td>date</td><td>str</td><td>f64</td></tr></thead><tbody><tr><td>2023-12-22</td><td>&quot;intu&quot;</td><td>1.595353</td></tr><tr><td>2023-12-22</td><td>&quot;phm&quot;</td><td>2.2171</td></tr></tbody></table></div>"
      ],
      "text/plain": [
       "shape: (2, 3)\n",
       "┌────────────┬────────┬──────────┐\n",
       "│ date       ┆ ticker ┆ close    │\n",
       "│ ---        ┆ ---    ┆ ---      │\n",
       "│ date       ┆ str    ┆ f64      │\n",
       "╞════════════╪════════╪══════════╡\n",
       "│ 2023-12-22 ┆ intu   ┆ 1.595353 │\n",
       "│ 2023-12-22 ┆ phm    ┆ 2.2171   │\n",
       "└────────────┴────────┴──────────┘"
      ]
     },
     "execution_count": 4,
     "metadata": {},
     "output_type": "execute_result"
    }
   ],
   "source": [
    "pl_lazy_df = pl.scan_parquet(\"../data/2023/parquet/*.parquet\")\n",
    "pl_lazy_df.filter((pl.col(\"date\") == pl.lit(date(2023, 12, 22))) & (pl.col(\"close\") >= 1.5)).collect()"
   ]
  },
  {
   "cell_type": "markdown",
   "metadata": {},
   "source": [
    "### Dask"
   ]
  },
  {
   "cell_type": "markdown",
   "metadata": {},
   "source": [
    "Read and query Parquet files"
   ]
  },
  {
   "cell_type": "code",
   "execution_count": 5,
   "metadata": {},
   "outputs": [
    {
     "data": {
      "text/html": [
       "<div>\n",
       "<style scoped>\n",
       "    .dataframe tbody tr th:only-of-type {\n",
       "        vertical-align: middle;\n",
       "    }\n",
       "\n",
       "    .dataframe tbody tr th {\n",
       "        vertical-align: top;\n",
       "    }\n",
       "\n",
       "    .dataframe thead th {\n",
       "        text-align: right;\n",
       "    }\n",
       "</style>\n",
       "<table border=\"1\" class=\"dataframe\">\n",
       "  <thead>\n",
       "    <tr style=\"text-align: right;\">\n",
       "      <th></th>\n",
       "      <th>date</th>\n",
       "      <th>ticker</th>\n",
       "      <th>close</th>\n",
       "    </tr>\n",
       "  </thead>\n",
       "  <tbody>\n",
       "    <tr>\n",
       "      <th>245</th>\n",
       "      <td>2023-12-22</td>\n",
       "      <td>intu</td>\n",
       "      <td>1.595353</td>\n",
       "    </tr>\n",
       "    <tr>\n",
       "      <th>245</th>\n",
       "      <td>2023-12-22</td>\n",
       "      <td>phm</td>\n",
       "      <td>2.217100</td>\n",
       "    </tr>\n",
       "  </tbody>\n",
       "</table>\n",
       "</div>"
      ],
      "text/plain": [
       "           date ticker     close\n",
       "245  2023-12-22   intu  1.595353\n",
       "245  2023-12-22    phm  2.217100"
      ]
     },
     "execution_count": 5,
     "metadata": {},
     "output_type": "execute_result"
    }
   ],
   "source": [
    "dd_df = dd.read_parquet(\"../data/2023/parquet/*.parquet\")\n",
    "dd_df[(dd_df[\"date\"] == date(2023, 12, 22)) & (dd_df[\"close\"] >= 1.5)].compute()"
   ]
  },
  {
   "cell_type": "markdown",
   "metadata": {},
   "source": [
    "### DuckDB"
   ]
  },
  {
   "cell_type": "markdown",
   "metadata": {},
   "source": [
    "Read and query Parquet files"
   ]
  },
  {
   "cell_type": "code",
   "execution_count": 6,
   "metadata": {},
   "outputs": [
    {
     "data": {
      "text/plain": [
       "┌────────────┬─────────┬────────────────────┐\n",
       "│    date    │ ticker  │       close        │\n",
       "│    date    │ varchar │       double       │\n",
       "├────────────┼─────────┼────────────────────┤\n",
       "│ 2023-12-22 │ phm     │  2.217099567099567 │\n",
       "│ 2023-12-22 │ intu    │ 1.5953525231351298 │\n",
       "└────────────┴─────────┴────────────────────┘"
      ]
     },
     "execution_count": 6,
     "metadata": {},
     "output_type": "execute_result"
    }
   ],
   "source": [
    "TABLE = \"../data/2023/parquet/*.parquet\"\n",
    "duckdb.query(f\"\"\"SELECT * FROM '{TABLE}' WHERE date = '2023-12-22' AND close >= 1.5\"\"\")"
   ]
  },
  {
   "cell_type": "markdown",
   "metadata": {},
   "source": [
    "## Example 2: Pivot and Aggregate"
   ]
  },
  {
   "cell_type": "markdown",
   "metadata": {},
   "source": [
    "### Polars"
   ]
  },
  {
   "cell_type": "markdown",
   "metadata": {},
   "source": [
    "Pivot and aggregate"
   ]
  },
  {
   "cell_type": "code",
   "execution_count": 7,
   "metadata": {},
   "outputs": [],
   "source": [
    "pl_df = pl.read_parquet(\"../data/2023/parquet/*.parquet\")\n",
    "pl_final_df = pl_df.pivot(index=\"ticker\", columns=\"date\", values=\"close\").with_columns(\n",
    "    pl.concat_list(pl.all().exclude(\"ticker\")).alias(\"closes\")\n",
    ")\n",
    "pl_final_df.write_parquet(\"./tmp/polars.parquet\")"
   ]
  },
  {
   "cell_type": "markdown",
   "metadata": {},
   "source": [
    "### Dask"
   ]
  },
  {
   "cell_type": "markdown",
   "metadata": {},
   "source": [
    "Pivot and aggregate"
   ]
  },
  {
   "cell_type": "code",
   "execution_count": 8,
   "metadata": {},
   "outputs": [],
   "source": [
    "dd_df = dd.read_parquet(\"../data/2023/parquet/*.parquet\")\n",
    "\n",
    "# Make date column to categorical to use pivot method\n",
    "dd_df.date = dd_df.date.dt.strftime(\"%Y-%m-%d\").astype(\"category\").cat.as_known()\n",
    "\n",
    "dd_pivot_df = dd_df.pivot_table(index='ticker', columns='date', values='close').compute()\n",
    "\n",
    "# Aggregate the date columns\n",
    "dd_agg_df = dd_df.compute().groupby('ticker').agg({\"close\": list})\n",
    "\n",
    "# Merge the two dataframes\n",
    "dd_final_df = dd_pivot_df.merge(dd_agg_df, on=\"ticker\")\n",
    "\n",
    "dd_final_df.rename(columns={\"close\": \"closes\"}, inplace=True)\n",
    "\n",
    "dd_final_df.to_parquet(\"./tmp/dask.parquet\")"
   ]
  },
  {
   "cell_type": "markdown",
   "metadata": {},
   "source": [
    "**NOTE: Object data type conversion issue**"
   ]
  },
  {
   "cell_type": "markdown",
   "metadata": {},
   "source": [
    "Above example works fine, \"closes\" column data type is list of float64"
   ]
  },
  {
   "cell_type": "code",
   "execution_count": 9,
   "metadata": {},
   "outputs": [
    {
     "data": {
      "text/plain": [
       "list"
      ]
     },
     "execution_count": 9,
     "metadata": {},
     "output_type": "execute_result"
    }
   ],
   "source": [
    "type(dd_final_df.closes.iloc[0])"
   ]
  },
  {
   "cell_type": "code",
   "execution_count": 10,
   "metadata": {},
   "outputs": [
    {
     "data": {
      "text/plain": [
       "float"
      ]
     },
     "execution_count": 10,
     "metadata": {},
     "output_type": "execute_result"
    }
   ],
   "source": [
    "type(dd_final_df.closes.iloc[0][0])"
   ]
  },
  {
   "cell_type": "markdown",
   "metadata": {},
   "source": [
    "However, if you move lazy evaluation to the end, the \"closes\" column data type is converted to string"
   ]
  },
  {
   "cell_type": "code",
   "execution_count": 11,
   "metadata": {},
   "outputs": [],
   "source": [
    "dd_dtissue_df = dd.read_parquet(\"../data/2023/parquet/*.parquet\")\n",
    "\n",
    "# Make date column to categorical to use pivot method\n",
    "dd_dtissue_df.date = dd_dtissue_df.date.dt.strftime(\"%Y-%m-%d\").astype(\"category\").cat.as_known()\n",
    "\n",
    "dd_dtissue_pivot_df = dd_dtissue_df.pivot_table(index='ticker', columns='date', values='close')\n",
    "\n",
    "# Aggregate the date columns\n",
    "dd_dtissue_agg_df = dd_dtissue_df.groupby('ticker').agg({\"close\": list})\n",
    "\n",
    "# Merge the two dataframes\n",
    "dd_dtissue_final_df = dd_dtissue_pivot_df.merge(dd_dtissue_agg_df, on=\"ticker\").compute()\n",
    "\n",
    "dd_dtissue_final_df.rename(columns={\"close\": \"closes\"}, inplace=True)\n",
    "\n",
    "dd_dtissue_final_df.to_parquet(\"./tmp/dask.parquet\")"
   ]
  },
  {
   "cell_type": "code",
   "execution_count": 12,
   "metadata": {},
   "outputs": [
    {
     "data": {
      "text/plain": [
       "'[1.0, 1.0108637696614236, 1.0137963209810719, 0.9842042122100773, 0.98287123433751, 1.0345907757931219, 1.05418555051986'"
      ]
     },
     "execution_count": 12,
     "metadata": {},
     "output_type": "execute_result"
    }
   ],
   "source": [
    "dd_dtissue_final_df.closes.iloc[0][:120]"
   ]
  },
  {
   "cell_type": "markdown",
   "metadata": {},
   "source": [
    "Dask community is aware of this issue, see below links for more details.\n",
    "\n",
    "- [[FEEDBACK] User experience with arrow strings](https://github.com/dask/dask/issues/10139)\n",
    "- [Issues with `convert-string` label](https://github.com/dask/dask/issues?q=label%3Aconvert-string+)"
   ]
  },
  {
   "cell_type": "markdown",
   "metadata": {},
   "source": [
    "### DuckDB"
   ]
  },
  {
   "cell_type": "markdown",
   "metadata": {},
   "source": [
    "Pivot and aggregate"
   ]
  },
  {
   "cell_type": "code",
   "execution_count": 13,
   "metadata": {},
   "outputs": [],
   "source": [
    "TABLE = \"../data/2023/parquet/*.parquet\"\n",
    "\n",
    "# Directly join the results of the two queries using subqueries\n",
    "duckdb.sql(f\"\"\"\n",
    "CREATE OR REPLACE TEMPORARY TABLE final_t AS (\n",
    "    SELECT pivot_t.*, agg_t.closes\n",
    "    FROM (\n",
    "        PIVOT '{TABLE}' ON date USING first(close) GROUP BY ticker\n",
    "    ) AS pivot_t\n",
    "    INNER JOIN (\n",
    "        SELECT ticker, list(close ORDER BY date ASC) AS closes \n",
    "        FROM '{TABLE}' \n",
    "        GROUP BY ticker\n",
    "    ) AS agg_t ON pivot_t.ticker = agg_t.ticker\n",
    ")\n",
    "\"\"\")"
   ]
  },
  {
   "cell_type": "code",
   "execution_count": 14,
   "metadata": {},
   "outputs": [
    {
     "data": {
      "text/html": [
       "<div>\n",
       "<style scoped>\n",
       "    .dataframe tbody tr th:only-of-type {\n",
       "        vertical-align: middle;\n",
       "    }\n",
       "\n",
       "    .dataframe tbody tr th {\n",
       "        vertical-align: top;\n",
       "    }\n",
       "\n",
       "    .dataframe thead th {\n",
       "        text-align: right;\n",
       "    }\n",
       "</style>\n",
       "<table border=\"1\" class=\"dataframe\">\n",
       "  <thead>\n",
       "    <tr style=\"text-align: right;\">\n",
       "      <th></th>\n",
       "      <th>ticker</th>\n",
       "      <th>2023-01-03</th>\n",
       "      <th>2023-01-04</th>\n",
       "      <th>2023-01-05</th>\n",
       "      <th>2023-01-06</th>\n",
       "      <th>2023-01-09</th>\n",
       "      <th>2023-01-10</th>\n",
       "      <th>2023-01-11</th>\n",
       "      <th>2023-01-12</th>\n",
       "      <th>2023-01-13</th>\n",
       "      <th>...</th>\n",
       "      <th>2023-12-12</th>\n",
       "      <th>2023-12-13</th>\n",
       "      <th>2023-12-14</th>\n",
       "      <th>2023-12-15</th>\n",
       "      <th>2023-12-18</th>\n",
       "      <th>2023-12-19</th>\n",
       "      <th>2023-12-20</th>\n",
       "      <th>2023-12-21</th>\n",
       "      <th>2023-12-22</th>\n",
       "      <th>closes</th>\n",
       "    </tr>\n",
       "  </thead>\n",
       "  <tbody>\n",
       "    <tr>\n",
       "      <th>0</th>\n",
       "      <td>cnc</td>\n",
       "      <td>1.0</td>\n",
       "      <td>0.996489</td>\n",
       "      <td>0.968899</td>\n",
       "      <td>0.986456</td>\n",
       "      <td>0.973037</td>\n",
       "      <td>0.954602</td>\n",
       "      <td>0.983697</td>\n",
       "      <td>0.980436</td>\n",
       "      <td>0.966140</td>\n",
       "      <td>...</td>\n",
       "      <td>0.957361</td>\n",
       "      <td>0.961500</td>\n",
       "      <td>0.946953</td>\n",
       "      <td>0.930775</td>\n",
       "      <td>0.937923</td>\n",
       "      <td>0.934663</td>\n",
       "      <td>0.905568</td>\n",
       "      <td>0.920617</td>\n",
       "      <td>0.919739</td>\n",
       "      <td>[1.0, 0.9964885879107098, 0.9688989214948585, ...</td>\n",
       "    </tr>\n",
       "    <tr>\n",
       "      <th>1</th>\n",
       "      <td>duk</td>\n",
       "      <td>1.0</td>\n",
       "      <td>1.010704</td>\n",
       "      <td>0.995757</td>\n",
       "      <td>1.014272</td>\n",
       "      <td>1.014368</td>\n",
       "      <td>1.016683</td>\n",
       "      <td>1.018901</td>\n",
       "      <td>1.013308</td>\n",
       "      <td>1.012343</td>\n",
       "      <td>...</td>\n",
       "      <td>0.919286</td>\n",
       "      <td>0.945805</td>\n",
       "      <td>0.948023</td>\n",
       "      <td>0.931823</td>\n",
       "      <td>0.937030</td>\n",
       "      <td>0.933558</td>\n",
       "      <td>0.922662</td>\n",
       "      <td>0.929219</td>\n",
       "      <td>0.934041</td>\n",
       "      <td>[1.0, 1.0107039537126326, 0.9957569913211186, ...</td>\n",
       "    </tr>\n",
       "    <tr>\n",
       "      <th>2</th>\n",
       "      <td>cah</td>\n",
       "      <td>1.0</td>\n",
       "      <td>1.003519</td>\n",
       "      <td>0.998566</td>\n",
       "      <td>1.024892</td>\n",
       "      <td>1.010947</td>\n",
       "      <td>1.018246</td>\n",
       "      <td>0.997263</td>\n",
       "      <td>0.997263</td>\n",
       "      <td>1.001825</td>\n",
       "      <td>...</td>\n",
       "      <td>1.406621</td>\n",
       "      <td>1.408185</td>\n",
       "      <td>1.338329</td>\n",
       "      <td>1.309657</td>\n",
       "      <td>1.317868</td>\n",
       "      <td>1.318259</td>\n",
       "      <td>1.291802</td>\n",
       "      <td>1.319432</td>\n",
       "      <td>1.320605</td>\n",
       "      <td>[1.0, 1.0035188322689952, 0.9985664016681871, ...</td>\n",
       "    </tr>\n",
       "    <tr>\n",
       "      <th>3</th>\n",
       "      <td>trmb</td>\n",
       "      <td>1.0</td>\n",
       "      <td>1.003953</td>\n",
       "      <td>0.990514</td>\n",
       "      <td>1.017787</td>\n",
       "      <td>1.032411</td>\n",
       "      <td>1.037549</td>\n",
       "      <td>1.052569</td>\n",
       "      <td>1.069960</td>\n",
       "      <td>1.077273</td>\n",
       "      <td>...</td>\n",
       "      <td>0.950395</td>\n",
       "      <td>0.972727</td>\n",
       "      <td>1.023320</td>\n",
       "      <td>1.023123</td>\n",
       "      <td>1.020751</td>\n",
       "      <td>1.036364</td>\n",
       "      <td>1.016206</td>\n",
       "      <td>1.034783</td>\n",
       "      <td>1.036364</td>\n",
       "      <td>[1.0, 1.0039525691699605, 0.9905138339920948, ...</td>\n",
       "    </tr>\n",
       "    <tr>\n",
       "      <th>4</th>\n",
       "      <td>pru</td>\n",
       "      <td>1.0</td>\n",
       "      <td>1.017089</td>\n",
       "      <td>0.999598</td>\n",
       "      <td>1.015380</td>\n",
       "      <td>0.987736</td>\n",
       "      <td>0.998693</td>\n",
       "      <td>1.005227</td>\n",
       "      <td>1.001206</td>\n",
       "      <td>1.015279</td>\n",
       "      <td>...</td>\n",
       "      <td>1.027141</td>\n",
       "      <td>1.046844</td>\n",
       "      <td>1.057600</td>\n",
       "      <td>1.044029</td>\n",
       "      <td>1.037093</td>\n",
       "      <td>1.048854</td>\n",
       "      <td>1.030458</td>\n",
       "      <td>1.037696</td>\n",
       "      <td>1.040812</td>\n",
       "      <td>[1.0, 1.0170888620828307, 0.9995979091274627, ...</td>\n",
       "    </tr>\n",
       "  </tbody>\n",
       "</table>\n",
       "<p>5 rows × 248 columns</p>\n",
       "</div>"
      ],
      "text/plain": [
       "  ticker  2023-01-03  2023-01-04  2023-01-05  2023-01-06  2023-01-09  \\\n",
       "0    cnc         1.0    0.996489    0.968899    0.986456    0.973037   \n",
       "1    duk         1.0    1.010704    0.995757    1.014272    1.014368   \n",
       "2    cah         1.0    1.003519    0.998566    1.024892    1.010947   \n",
       "3   trmb         1.0    1.003953    0.990514    1.017787    1.032411   \n",
       "4    pru         1.0    1.017089    0.999598    1.015380    0.987736   \n",
       "\n",
       "   2023-01-10  2023-01-11  2023-01-12  2023-01-13  ...  2023-12-12  \\\n",
       "0    0.954602    0.983697    0.980436    0.966140  ...    0.957361   \n",
       "1    1.016683    1.018901    1.013308    1.012343  ...    0.919286   \n",
       "2    1.018246    0.997263    0.997263    1.001825  ...    1.406621   \n",
       "3    1.037549    1.052569    1.069960    1.077273  ...    0.950395   \n",
       "4    0.998693    1.005227    1.001206    1.015279  ...    1.027141   \n",
       "\n",
       "   2023-12-13  2023-12-14  2023-12-15  2023-12-18  2023-12-19  2023-12-20  \\\n",
       "0    0.961500    0.946953    0.930775    0.937923    0.934663    0.905568   \n",
       "1    0.945805    0.948023    0.931823    0.937030    0.933558    0.922662   \n",
       "2    1.408185    1.338329    1.309657    1.317868    1.318259    1.291802   \n",
       "3    0.972727    1.023320    1.023123    1.020751    1.036364    1.016206   \n",
       "4    1.046844    1.057600    1.044029    1.037093    1.048854    1.030458   \n",
       "\n",
       "   2023-12-21  2023-12-22                                             closes  \n",
       "0    0.920617    0.919739  [1.0, 0.9964885879107098, 0.9688989214948585, ...  \n",
       "1    0.929219    0.934041  [1.0, 1.0107039537126326, 0.9957569913211186, ...  \n",
       "2    1.319432    1.320605  [1.0, 1.0035188322689952, 0.9985664016681871, ...  \n",
       "3    1.034783    1.036364  [1.0, 1.0039525691699605, 0.9905138339920948, ...  \n",
       "4    1.037696    1.040812  [1.0, 1.0170888620828307, 0.9995979091274627, ...  \n",
       "\n",
       "[5 rows x 248 columns]"
      ]
     },
     "execution_count": 14,
     "metadata": {},
     "output_type": "execute_result"
    }
   ],
   "source": [
    "duckdb.sql(\"SELECT * FROM final_t\").to_df().head()"
   ]
  },
  {
   "cell_type": "markdown",
   "metadata": {},
   "source": [
    "Export to Parquet"
   ]
  },
  {
   "cell_type": "code",
   "execution_count": 15,
   "metadata": {},
   "outputs": [],
   "source": [
    "OUTPUT = \"./tmp/duckdb.parquet\"\n",
    "\n",
    "duckdb.sql(f\"\"\"COPY final_t TO '{OUTPUT}' (FORMAT PARQUET)\"\"\")"
   ]
  }
 ],
 "metadata": {
  "kernelspec": {
   "display_name": "Python 3 (ipykernel)",
   "language": "python",
   "name": "python3"
  },
  "language_info": {
   "codemirror_mode": {
    "name": "ipython",
    "version": 3
   },
   "file_extension": ".py",
   "mimetype": "text/x-python",
   "name": "python",
   "nbconvert_exporter": "python",
   "pygments_lexer": "ipython3",
   "version": "3.11.5"
  }
 },
 "nbformat": 4,
 "nbformat_minor": 4
}
